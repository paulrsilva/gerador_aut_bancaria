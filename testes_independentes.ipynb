{
 "cells": [
  {
   "cell_type": "code",
   "execution_count": 26,
   "metadata": {
    "collapsed": true
   },
   "outputs": [],
   "source": [
    "import os\n",
    "import platform\n",
    "class SistemaUsuario:\n",
    "    def __init__(self):\n",
    "        self.sistemaOperacional=os.name\n",
    "        self.plataforma=platform.system()\n",
    "        self.versao=platform.release()\n",
    "    def sistema(self):\n",
    "        return (self.sistemaOperacional,self.plataforma,self.versao)\n",
    "    def imprimir(self,*args):\n",
    "        \n",
    "        print(self.sistemaOperacional,self.plataforma,self.versao)\n",
    "        \n",
    "        if self.plataforma.lower() == \"linux\" or self.plataforma.lower() == \"linux2\":\n",
    "            print(\"Imprimindo em Linux: %s\" % args)\n",
    "        elif self.plataforma.lower() == \"darwin\":\n",
    "            print(\"Imprimindo em Mac: %s\" %(args) )\n",
    "        elif self.plataformalower() == \"win32\":\n",
    "            print(\"Imprimindo em Windows 32: %s\" % args)\n",
    "        elif self.plataformalower() == \"win62\":\n",
    "            print(\"Imprimindo em Windows 64: %s\" % args)\n",
    "        else:\n",
    "            print(\"Sistema Operacional Desconhecido\")\n",
    "    def imprima(self,*args):\n",
    "        texto=\"\\n\"\n",
    "        for linha in args:\n",
    "            texto=(texto+linha+\"\\n\")\n",
    "            #print(linha)\n",
    "        return texto"
   ]
  },
  {
   "cell_type": "code",
   "execution_count": 27,
   "metadata": {},
   "outputs": [],
   "source": [
    "usuario=SistemaUsuario()"
   ]
  },
  {
   "cell_type": "code",
   "execution_count": 28,
   "metadata": {},
   "outputs": [
    {
     "data": {
      "text/plain": [
       "'\\nasdasdsad\\nasdasd\\nasdasddasd\\n'"
      ]
     },
     "execution_count": 28,
     "metadata": {},
     "output_type": "execute_result"
    }
   ],
   "source": [
    "usuario.imprima(\"asdasdsad\",\"asdasd\",\"asdasddasd\")"
   ]
  },
  {
   "cell_type": "code",
   "execution_count": 32,
   "metadata": {},
   "outputs": [
    {
     "name": "stdout",
     "output_type": "stream",
     "text": [
      "\n",
      "\n"
     ]
    }
   ],
   "source": [
    "print(usuario.imprima())"
   ]
  },
  {
   "cell_type": "code",
   "execution_count": null,
   "metadata": {
    "collapsed": true
   },
   "outputs": [],
   "source": []
  }
 ],
 "metadata": {
  "kernelspec": {
   "display_name": "Python 3",
   "language": "python",
   "name": "python3"
  },
  "language_info": {
   "codemirror_mode": {
    "name": "ipython",
    "version": 3
   },
   "file_extension": ".py",
   "mimetype": "text/x-python",
   "name": "python",
   "nbconvert_exporter": "python",
   "pygments_lexer": "ipython3",
   "version": "3.6.2"
  }
 },
 "nbformat": 4,
 "nbformat_minor": 2
}
