{
 "cells": [
  {
   "cell_type": "code",
   "execution_count": 1,
   "metadata": {
    "collapsed": true
   },
   "outputs": [],
   "source": [
    "import random,time,datetime\n",
    "from datetime import datetime as dt"
   ]
  },
  {
   "cell_type": "code",
   "execution_count": 4,
   "metadata": {
    "collapsed": true
   },
   "outputs": [],
   "source": [
    "def strTimeProp(start, end, format, prop):\n",
    "    \"\"\"Get a time at a proportion of a range of two formatted times.\n",
    "\n",
    "    start and end should be strings specifying times formated in the\n",
    "    given format (strftime-style), giving an interval [start, end].\n",
    "    prop specifies how a proportion of the interval to be taken after\n",
    "    start.  The returned time will be in the specified format.\n",
    "    \"\"\"\n",
    "\n",
    "    stime = time.mktime(time.strptime(start, format))\n",
    "    etime = time.mktime(time.strptime(end, format))\n",
    "\n",
    "    ptime = stime + prop * (etime - stime)\n",
    "\n",
    "    return time.strftime(format, time.localtime(ptime))"
   ]
  },
  {
   "cell_type": "code",
   "execution_count": 5,
   "metadata": {
    "collapsed": true
   },
   "outputs": [],
   "source": [
    "def randomDate(start, end, prop):\n",
    "    return strTimeProp(start, end, '%m/%d/%Y %I:%M %p', prop)"
   ]
  },
  {
   "cell_type": "code",
   "execution_count": 2,
   "metadata": {
    "collapsed": true
   },
   "outputs": [],
   "source": [
    "entradaData=\"20/01/2018\""
   ]
  },
  {
   "cell_type": "code",
   "execution_count": 3,
   "metadata": {},
   "outputs": [
    {
     "name": "stdout",
     "output_type": "stream",
     "text": [
      "2018-01-18 10:31:47.468227\n"
     ]
    }
   ],
   "source": [
    "print(dt.today())"
   ]
  },
  {
   "cell_type": "code",
   "execution_count": 4,
   "metadata": {
    "collapsed": true
   },
   "outputs": [],
   "source": [
    "HorarioBancario=('10:00','16:00')"
   ]
  },
  {
   "cell_type": "code",
   "execution_count": 12,
   "metadata": {
    "collapsed": true
   },
   "outputs": [],
   "source": [
    "hoje=dt.today()"
   ]
  },
  {
   "cell_type": "code",
   "execution_count": 46,
   "metadata": {
    "collapsed": true
   },
   "outputs": [],
   "source": [
    "VarHorAbertura=\"10:00 AM\"\n",
    "VarHorFechamento=\"16:00\""
   ]
  },
  {
   "cell_type": "code",
   "execution_count": 28,
   "metadata": {
    "collapsed": true
   },
   "outputs": [],
   "source": [
    "HorAbertura=time.mktime(time.strptime(VarHorAbertura,\"%I:%M %p\"))"
   ]
  },
  {
   "cell_type": "code",
   "execution_count": 48,
   "metadata": {
    "collapsed": true,
    "scrolled": true
   },
   "outputs": [],
   "source": [
    "HorFechamento=time.mktime(time.strptime(VarHorFechamento,\"%H:%M\"))"
   ]
  },
  {
   "cell_type": "code",
   "execution_count": 44,
   "metadata": {},
   "outputs": [
    {
     "name": "stdout",
     "output_type": "stream",
     "text": [
      "10:00:00\n"
     ]
    }
   ],
   "source": [
    "print(time.strftime(\"%I:%M:%S\",time.localtime(HorAbertura)))"
   ]
  },
  {
   "cell_type": "code",
   "execution_count": 61,
   "metadata": {},
   "outputs": [
    {
     "name": "stdout",
     "output_type": "stream",
     "text": [
      "16:00:00\n"
     ]
    }
   ],
   "source": [
    "print(time.strftime(\"%H:%M:%S\",time.localtime(HorFechamento)))"
   ]
  },
  {
   "cell_type": "code",
   "execution_count": 6,
   "metadata": {
    "scrolled": true
   },
   "outputs": [
    {
     "name": "stdout",
     "output_type": "stream",
     "text": [
      "10\n"
     ]
    }
   ],
   "source": [
    "print(hoje.hour)"
   ]
  },
  {
   "cell_type": "code",
   "execution_count": 73,
   "metadata": {},
   "outputs": [
    {
     "data": {
      "text/plain": [
       "datetime.datetime"
      ]
     },
     "execution_count": 73,
     "metadata": {},
     "output_type": "execute_result"
    }
   ],
   "source": [
    "type(hoje)"
   ]
  },
  {
   "cell_type": "code",
   "execution_count": 74,
   "metadata": {},
   "outputs": [
    {
     "data": {
      "text/plain": [
       "int"
      ]
     },
     "execution_count": 74,
     "metadata": {},
     "output_type": "execute_result"
    }
   ],
   "source": [
    "type(hoje.hour)"
   ]
  },
  {
   "cell_type": "code",
   "execution_count": 75,
   "metadata": {},
   "outputs": [
    {
     "name": "stdout",
     "output_type": "stream",
     "text": [
      "09:38\n"
     ]
    }
   ],
   "source": [
    "print(time.strftime(\"%I:%M\",time.localtime(hoje.toordinal())))"
   ]
  },
  {
   "cell_type": "code",
   "execution_count": 87,
   "metadata": {
    "scrolled": true
   },
   "outputs": [
    {
     "data": {
      "text/plain": [
       "str"
      ]
     },
     "execution_count": 87,
     "metadata": {},
     "output_type": "execute_result"
    }
   ],
   "source": [
    "type(HorarioBancario[0])"
   ]
  },
  {
   "cell_type": "code",
   "execution_count": 90,
   "metadata": {},
   "outputs": [
    {
     "name": "stdout",
     "output_type": "stream",
     "text": [
      "10\n"
     ]
    }
   ],
   "source": [
    "print(HorarioBancario[0][0:2])\n",
    "\n"
   ]
  },
  {
   "cell_type": "code",
   "execution_count": 92,
   "metadata": {
    "collapsed": true
   },
   "outputs": [],
   "source": [
    "horaAbertura=int(HorarioBancario[0][0:2])\n"
   ]
  },
  {
   "cell_type": "code",
   "execution_count": 97,
   "metadata": {},
   "outputs": [
    {
     "name": "stdout",
     "output_type": "stream",
     "text": [
      "10\n"
     ]
    }
   ],
   "source": [
    "print(horaAbertura\n",
    "     )"
   ]
  },
  {
   "cell_type": "code",
   "execution_count": 131,
   "metadata": {
    "collapsed": true
   },
   "outputs": [],
   "source": [
    "hora=random.choice(range(10,16))\n",
    "minuto=random.choice(range(0,59))\n",
    "segundo=random.choice(range(0,59))\n"
   ]
  },
  {
   "cell_type": "code",
   "execution_count": 186,
   "metadata": {},
   "outputs": [
    {
     "name": "stdout",
     "output_type": "stream",
     "text": [
      "15:57:42\n"
     ]
    }
   ],
   "source": [
    "hora=str(random.choice(range(10,16)))\n",
    "minuto=\"{:0>2d}\".format(random.choice(range(0,59)))\n",
    "segundo=\"{:0>2d}\".format(random.choice(range(0,59)))\n",
    "\n",
    "print(\"%s:%s:%s\" %(hora,minuto,segundo))\n"
   ]
  },
  {
   "cell_type": "code",
   "execution_count": 187,
   "metadata": {
    "collapsed": true
   },
   "outputs": [],
   "source": [
    "horarioPagto=(\"%s:%s:%s\"%(hora,minuto,segundo))"
   ]
  },
  {
   "cell_type": "code",
   "execution_count": null,
   "metadata": {
    "collapsed": true
   },
   "outputs": [],
   "source": [
    "print(\"%d:%s:%d\" %(hora,minuto,segundo))"
   ]
  },
  {
   "cell_type": "code",
   "execution_count": 17,
   "metadata": {},
   "outputs": [
    {
     "name": "stdout",
     "output_type": "stream",
     "text": [
      "18\n"
     ]
    }
   ],
   "source": [
    "print(hoje.second)"
   ]
  },
  {
   "cell_type": "code",
   "execution_count": 18,
   "metadata": {},
   "outputs": [
    {
     "name": "stdout",
     "output_type": "stream",
     "text": [
      "09:38:32\n"
     ]
    }
   ],
   "source": [
    "print(time.strftime(\"%I:%M:%S\",time.localtime(hoje.toordinal())))"
   ]
  },
  {
   "cell_type": "code",
   "execution_count": 20,
   "metadata": {
    "collapsed": true
   },
   "outputs": [],
   "source": [
    "horaPagto=str(\"%d:%d:%d\" %(hoje.hour,hoje.minute,hoje.second))"
   ]
  },
  {
   "cell_type": "code",
   "execution_count": 22,
   "metadata": {},
   "outputs": [
    {
     "name": "stdout",
     "output_type": "stream",
     "text": [
      "10:42:18\n"
     ]
    }
   ],
   "source": [
    "print(horaPagto)"
   ]
  },
  {
   "cell_type": "code",
   "execution_count": 24,
   "metadata": {
    "collapsed": true
   },
   "outputs": [],
   "source": [
    "import os,binascii\n"
   ]
  },
  {
   "cell_type": "code",
   "execution_count": 76,
   "metadata": {},
   "outputs": [],
   "source": [
    "autentica=binascii.b2a_hex(os.urandom(20))\n"
   ]
  },
  {
   "cell_type": "code",
   "execution_count": 78,
   "metadata": {},
   "outputs": [
    {
     "data": {
      "text/plain": [
       "bytes"
      ]
     },
     "execution_count": 78,
     "metadata": {},
     "output_type": "execute_result"
    }
   ],
   "source": [
    "type(autentica)"
   ]
  },
  {
   "cell_type": "code",
   "execution_count": 84,
   "metadata": {},
   "outputs": [
    {
     "name": "stdout",
     "output_type": "stream",
     "text": [
      "B'8FCBA827A458FEF0ABFFA67EAC9C0160D596999C'\n"
     ]
    }
   ],
   "source": [
    "print(str(autentica).upper())"
   ]
  },
  {
   "cell_type": "code",
   "execution_count": 90,
   "metadata": {},
   "outputs": [
    {
     "name": "stdout",
     "output_type": "stream",
     "text": [
      "b'8fcba827a458fef0abffa67eac9c0160d596999c'\n"
     ]
    }
   ],
   "source": [
    "print(autentica)"
   ]
  },
  {
   "cell_type": "code",
   "execution_count": 93,
   "metadata": {
    "collapsed": true
   },
   "outputs": [],
   "source": [
    "agenciaPagto=[1,\"BB\",\"RJ\",\"Petropolis\",\"0080\",\"PETROPOLIS PETROPOLIS\"]"
   ]
  },
  {
   "cell_type": "code",
   "execution_count": 95,
   "metadata": {
    "collapsed": true
   },
   "outputs": [],
   "source": [
    "f=open('teste.txt','w')\n",
    "for i in range(0,100):\n",
    "    f.write(\"Linha: %d \\n\" %i)\n",
    "f.close()\n"
   ]
  },
  {
   "cell_type": "code",
   "execution_count": 97,
   "metadata": {
    "collapsed": true
   },
   "outputs": [],
   "source": [
    "    def GeraRecibo(ciclo):\n",
    "        recibo=open('recibo.tmp','w')\n",
    "        '''\n",
    "        locale.setlocale(locale.LC_ALL, \"\")\n",
    "        info = locale.localeconv()  # formatando moeda local\n",
    "        recibo.write()\n",
    "        recibo.write(self.banco[2].upper(), \"              \\n\")\n",
    "        recibo.write(\"COMPROVANTE DE PAGAMENTO DE\", self.tipoGuia[2].upper(), \"\\n\")\n",
    "        recibo.write(\"DADOS DO EMITENTE \\nNOME: \\nCPF/CNPJ: 00000000000000  \\n\")\n",
    "        recibo.write(\"CODIGO DO PAGAMENTO:  \", self.codigo)\n",
    "        recibo.write(\"COMPETENCIA:  \", self.competencia.strftime(\"%m/%Y\"))\n",
    "        recibo.write(\"IDENTIFICADOR:  \", self.identificador, \"\\n\")\n",
    "        recibo.write(\"VALOR PRINCIPAL:  \", info['currency_symbol'], locale.format(\"%1.2f\", self.valor_principal, 1), \"\\n\")\n",
    "        recibo.write(\"VALOR DE OUTRAS ENT: \", info['currency_symbol'], locale.format(\"%1.2f\", self.valor_outras_ent, 1),\n",
    "              \"\\nVALOR DO ATM/JUR/MULT:\", info['currency_symbol'], locale.format(\"%1.2f\", self.valor_jur, 1),\n",
    "              \"\\nVALOR ARRECADADO: \", info['currency_symbol'], locale.format(\"%1.2f\", self.valor_total, 1), \"\\n\")\n",
    "        recibo.write(\"DOCUMENTO PAGO DENTRO DAS CONDICOES \\nDEFINIDAS PELA PORTARIA RFB No.\\t1976/2008 \\n\")\n",
    "        recibo.write(\"CICLO:  %s \\nREALIZADO EM: %s as %s \\nAG.%s %s \\n\" % (\n",
    "        ciclo, self.data_pagto.strftime(\"%d/%m/%Y\"), self.horaPagto, self.agenciaPagto[4], self.agenciaPagto[5]))\n",
    "\n",
    "        recibo.write(\"\\t\\t\\t AUTENTICACAO \\n%s \\n\" % (self.autenticacao[2:40].upper()))\n",
    "        recibo.write(self.banco[3], \"806248887   \", self.data_pagto.strftime(\"%d%m%y\"), \"   \",\n",
    "              locale.format(\"%1.2f\", self.valor_total, 1), \"   \", self.tipoGuia[1] + \"DIN\")\n",
    "\n",
    "        '''\n",
    "        recibo.write(\"BANCO DO CAFUNDO              \\n\")\n",
    "        recibo.write(\"ciclo: %s\" % ciclo)\n",
    "        recibo.close()"
   ]
  },
  {
   "cell_type": "code",
   "execution_count": 98,
   "metadata": {
    "collapsed": true
   },
   "outputs": [],
   "source": [
    "GeraRecibo(\"0000000\")"
   ]
  },
  {
   "cell_type": "code",
   "execution_count": null,
   "metadata": {
    "collapsed": true
   },
   "outputs": [],
   "source": []
  }
 ],
 "metadata": {
  "kernelspec": {
   "display_name": "Python 3",
   "language": "python",
   "name": "python3"
  },
  "language_info": {
   "codemirror_mode": {
    "name": "ipython",
    "version": 3
   },
   "file_extension": ".py",
   "mimetype": "text/x-python",
   "name": "python",
   "nbconvert_exporter": "python",
   "pygments_lexer": "ipython3",
   "version": "3.6.1"
  }
 },
 "nbformat": 4,
 "nbformat_minor": 2
}
