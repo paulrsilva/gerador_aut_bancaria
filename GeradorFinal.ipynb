{
 "cells": [
  {
   "cell_type": "code",
   "execution_count": 295,
   "metadata": {
    "collapsed": true
   },
   "outputs": [],
   "source": [
    "import sys\n",
    "import os\n",
    "import socket\n",
    "import urllib\n",
    "import re\n",
    "import binascii\n",
    "\n",
    "import sqlite3\n",
    "import os.path\n",
    "from contextlib import closing\n",
    "\n",
    "import tempfile\n",
    "\n",
    "import time, calendar, datetime, random, locale\n",
    "\n",
    "from _datetime import datetime as dt\n",
    "\n",
    "# import netifaces\n",
    "\n",
    "HorarioBancario=('10:00','16:00')\n",
    "HorarioUltimoPagto=0\n",
    "\n",
    "class ComprovantePagto:\n",
    "    'classe comum para todos os pagamentos'\n",
    "    compCount = 0\n",
    "    NumUltimaAutenticacao=None\n",
    "    def __init__(self, banco, agenciaPagto, tipoGuia, codigo, data_venc, data_pagto, horaPagto, competencia, identificador, valor_principal,\n",
    "                 valor_outras_ent, valor_jur, valor_total, autenticacao):\n",
    "        self.banco=banco\n",
    "        self.agenciaPagto=agenciaPagto\n",
    "        self.tipoGuia=tipoGuia\n",
    "        self.codigo=codigo\n",
    "        self.data_venc=data_venc\n",
    "        self.data_pagto=data_pagto\n",
    "        self.horaPagto=horaPagto\n",
    "        self.competencia=competencia\n",
    "        self.identificador=identificador\n",
    "        self.valor_principal=valor_principal\n",
    "        self.valor_outras_ent=valor_outras_ent\n",
    "        self.valor_jur=valor_jur\n",
    "        self.valor_total=valor_total\n",
    "        self.autenticacao=autenticacao\n",
    "\n",
    "        ComprovantePagto.compCount +=1\n",
    "\n",
    "    def Ciclo(self):\n",
    "        ident = random.randint(11111111111111111, 1299999999999999999)\n",
    "        identificador = \"{:0>19d}\".format(ident)\n",
    "        ciclo=self.competencia.strftime(\"%d.%m.%Y\")+identificador\n",
    "        return ciclo\n",
    "\n",
    "    def displayCount(self):\n",
    "        print(\"Total de Pagamentos %d\" % ComprovantePagto.compCount)\n",
    "        return ComprovantePagto.compCount\n",
    "\n",
    "    def GeraRecibo(self,ciclo):\n",
    "        recibo=open(\"recibo.tmp\",\"w\")\n",
    "\n",
    "        locale.setlocale(locale.LC_ALL, \"\")\n",
    "        info = locale.localeconv()  # formatando moeda local\n",
    "        recibo.write(\"\\n%s              \\n\\n\" %(self.banco[2].upper()))\n",
    "        recibo.write(\"COMPROVANTE DE PAGAMENTO DE %s \\n\\n\" % self.tipoGuia[2].upper())\n",
    "        recibo.write(\"DADOS DO EMITENTE \\nNOME: \\nCPF/CNPJ: 00000000000000  \\n\\n\")\n",
    "        recibo.write(\"CODIGO DO PAGAMENTO:  %s\\n\" % self.codigo)\n",
    "        recibo.write(\"COMPETENCIA:  %s\\n\" % self.competencia.strftime(\"%m/%Y\"))\n",
    "        recibo.write(\"IDENTIFICADOR:  %s\\n\\n\" % self.identificador)\n",
    "        recibo.write(\"VALOR PRINCIPAL:  %s %s \\n\\n\" %( info['currency_symbol'], locale.format(\"%1.2f\", self.valor_principal, 1)))\n",
    "        recibo.write(\"VALOR DE OUTRAS ENT: %s %s\\n\" %( info['currency_symbol'], locale.format(\"%1.2f\", self.valor_outras_ent, 1)))\n",
    "        recibo.write(\"VALOR DO ATM/JUR/MULT: %s %s\\n\" %(info['currency_symbol'], locale.format(\"%1.2f\", self.valor_jur, 1)))\n",
    "        recibo.write(\"VALOR ARRECADADO: %s %s\\n\\n\" %( info['currency_symbol'], locale.format(\"%1.2f\", self.valor_total, 1)))\n",
    "        recibo.write(\"DOCUMENTO PAGO DENTRO DAS CONDICOES \\nDEFINIDAS PELA PORTARIA RFB No.\\t1976/2008 \\n\\n\")\n",
    "        recibo.write(\"CICLO:  %s \\nREALIZADO EM: %s as %s \\nAG.%s %s \\n\\n\" % (\n",
    "            ciclo, self.data_pagto.strftime(\"%d/%m/%Y\"), self.horaPagto, self.agenciaPagto[4][0:4], self.agenciaPagto[5]))\n",
    "        recibo.write(\"\\t\\t\\t AUTENTICACAO \\n%s \\n\\n\" % (self.autenticacao[2:40].upper()))\n",
    "        recibo.write(\"%s %s   %s   %s   %sC   %s\\n\\n\" %(self.banco[3],self.agenciaPagto[4][0:4],\"806248887\",self.data_pagto.strftime(\"%d%m%y\"),\n",
    "                                           locale.format(\"%1.2f\", self.valor_total, 1),self.tipoGuia[1] + \"DIN\"))\n",
    "        recibo.close()\n",
    "\n",
    "        \n",
    "    def GeraNumAutenticacao(self):\n",
    "        if(self.NumUltimaAutenticacao==None):\n",
    "            numInicial = (\"%s%s\" % (\"0\", str(self.banco[0])))\n",
    "            numFinal = \"{:0>2d}\".format(random.randint(1, 10))\n",
    "            NumAleatorio = (\"%s%s\" % (numInicial, numFinal))\n",
    "            self.NumUltimaAutenticacao=NumAleatorio\n",
    "            return NumAleatorio\n",
    "        else:\n",
    "            numAutentica=int(self.NumUltimaAutenticacao)+1\n",
    "            numAut=\"{:0>4d}\".format(numAutentica)\n",
    "            self.NumUltimaAutenticacao = numAut\n",
    "            return numAut\n",
    "\n",
    "\n",
    "    def MostraAutenticacao(self):\n",
    "        print(\"\\n%s %s %s %s %s \\t%sR %s\" % (self.banco[3],self.agenciaPagto[4][0:4],self.banco[1],self.data_pagto.strftime(\"%d%m%y\"),self.GeraNumAutenticacao(),\n",
    "                                             str(self.valor_total).replace(\".\",\",\"),self.data_venc.strftime(\"%d/%d\")))\n",
    "\n",
    "\n",
    "    def MostraRecibo(self,ciclo):\n",
    "        locale.setlocale(locale.LC_ALL, \"\")\n",
    "        info = locale.localeconv()  # formatando moeda local\n",
    "        print(\"\\n\\n\")\n",
    "        print(self.banco[2].upper(),\"              \\n\")\n",
    "        print(\"COMPROVANTE DE PAGAMENTO DE\", self.tipoGuia[2].upper(), \"\\n\")\n",
    "        print(\"DADOS DO EMITENTE \\nNOME: \\nCPF/CNPJ: 00000000000000  \\n\")\n",
    "        print(\"CODIGO DO PAGAMENTO:  \", self.codigo)\n",
    "        print(\"COMPETENCIA:  \",self.competencia.strftime(\"%m/%Y\"))\n",
    "        print( \"IDENTIFICADOR:  \",self.identificador,\"\\n\")\n",
    "        print(\"VALOR PRINCIPAL:  \",info['currency_symbol'],locale.format(\"%1.2f\",self.valor_principal,1),\"\\n\")\n",
    "        print(\"VALOR DE OUTRAS ENT: \",info['currency_symbol'],locale.format(\"%1.2f\",self.valor_outras_ent,1),\n",
    "              \"\\nVALOR DO ATM/JUR/MULT:\",info['currency_symbol'],locale.format(\"%1.2f\",self.valor_jur,1),\n",
    "              \"\\nVALOR ARRECADADO: \", info['currency_symbol'], locale.format(\"%1.2f\", self.valor_total, 1),\"\\n\")\n",
    "        print(\"DOCUMENTO PAGO DENTRO DAS CONDICOES \\nDEFINIDAS PELA PORTARIA RFB No.\\t1976/2008 \\n\")\n",
    "\n",
    "        print(\"CICLO:  %s \\nREALIZADO EM: %s as %s \\nAG.%s %s \\n\" % (ciclo, self.data_pagto.strftime(\"%d/%m/%Y\"),self.horaPagto,self.agenciaPagto[4],self.agenciaPagto[5]))\n",
    "\n",
    "        print(\"\\t\\t\\t AUTENTICACAO \\n%s \\n\" %(self.autenticacao[2:40].upper()))\n",
    "        print(self.banco[3],\"806248887   \",self.data_pagto.strftime(\"%d%m%y\"),\"   \",locale.format(\"%1.2f\", self.valor_total, 1),\"   \",self.tipoGuia[1]+\"DIN\")\n",
    "\n",
    "        print('\\n----------//-------------\\n')\n",
    "        while True:\n",
    "            entradaRecibo=input(\"[A]rquivar | [I]mprimir | [S]air :\")\n",
    "            if(entradaRecibo.lower()=='a'):\n",
    "                pass\n",
    "            elif(entradaRecibo.lower()=='i'):\n",
    "                #ComprovantePagto.GeraRecibo(self)\n",
    "                os.startfile(\"recibo.tmp\", \"print\")\n",
    "            elif(entradaRecibo.lower()=='s'):\n",
    "                break\n",
    "            else:\n",
    "                print(\"Digite A, I ou S\\n\")\n",
    "\n",
    "bancos = [ (\"001\", \"Banco do Brasil S.A.\", \"BB\"),\n",
    "           (\"104\",\"Caixa Econômica Federal\", \"CE\"),\n",
    "           (\"033\",\"Banco Santander (Brasil) S.A.\",\"SBR\"),\n",
    "           (\"341\",\"Itaú Unibanco S.A.\",\"ITAU\")\n",
    "]\n",
    "\n",
    "tiposDeGuia = [(\"GPS\", \"Guia de Previdência Social\"),\n",
    "               (\"GRU\", \"Guia de Recolhimendo da União\" )\n",
    "]\n",
    "\n",
    "agencias = [ (\"BB\",\"RJ\",\"Petropolis\",\"0080\", \"PETROPOLIS PETROPOLIS\"),\n",
    "             (\"CE\", \"RJ\", \"Petropolis\", \"1651\", \"PETROPOLIS UNIAO\"),\n",
    "             (\"SBR\", \"RJ\", \"Petropolis\", \"3242\", \"PETROPOLIS-CENTRO\"),\n",
    "             (\"ITAU\",\"RJ\",\"Petropolis\",\"0087\",\"PETROPOLIS UNIAO\")\n",
    "]\n",
    "\n",
    "def pegaNetInfo():\n",
    "    #pegando o ip local\n",
    "    ipLocal = socket.gethostbyname(socket.gethostname())\n",
    "\n",
    "    # pegando o IP do Router\n",
    "\n",
    "    ipRouter = '0.0.0.0'\n",
    "\n",
    "    # pegando o IP público\n",
    "    site = urllib.urlopen(\"http://checkip.dyndns.org/\").read()\n",
    "    grab = re.findall('([0-9]+\\.[0-9]+\\.[0-9]+\\.[0-9]+)', site)\n",
    "    ipExterno = grab[0]\n",
    "\n",
    "    return ipLocal, ipRouter, ipExterno\n",
    "\n",
    "def verificaBD():\n",
    "    if (os.path.exists('bancos.db')):\n",
    "        return True\n",
    "    else:\n",
    "        conn = sqlite3.connect(\"bancos.db\")\n",
    "        cursor = conn.cursor()\n",
    "\n",
    "        cursor.execute ('''\n",
    "                create TABLE bancos(\n",
    "                  id INTEGER PRIMARY KEY AUTOINCREMENT,\n",
    "                  cod text,\n",
    "                  nome text,\n",
    "                  slug text\n",
    "                )\n",
    "\n",
    "        ''')\n",
    "\n",
    "        cursor.executemany('''\n",
    "               INSERT INTO bancos (cod, nome, slug) VALUES (?,?,?)\n",
    "        ''', bancos)\n",
    "\n",
    "        cursor.execute('''\n",
    "              CREATE TABLE guias(\n",
    "                id INTEGER PRIMARY KEY AUTOINCREMENT,\n",
    "                sigla text,\n",
    "                nome text\n",
    "              )\n",
    "        ''')\n",
    "        cursor.executemany('''\n",
    "            INSERT INTO guias(sigla,nome) VALUES (?,?)\n",
    "        ''', tiposDeGuia)\n",
    "\n",
    "        cursor.execute('''\n",
    "                CREATE TABLE agencias(\n",
    "                  id INTEGER PRIMARY KEY AUTOINCREMENT,\n",
    "                  banco text,\n",
    "                  UF text,\n",
    "                  Cidade text,\n",
    "                  Agencia text,\n",
    "                  nome_agencia text\n",
    "                )\n",
    "        ''')\n",
    "\n",
    "    cursor.executemany('''\n",
    "           INSERT INTO agencias(banco,UF,Cidade,Agencia,nome_agencia) VALUES (?,?,?,?,?)\n",
    "       ''', agencias)\n",
    "\n",
    "    conn.commit()\n",
    "    cursor.close()\n",
    "    conn.close()\n",
    "    return False\n",
    "\n",
    "\n",
    "#TODO Acertar verificação de tabela\n",
    "def verificaTabelaDB(dbcon, tablename):\n",
    "    dbcur = dbcon.cursor()\n",
    "    dbcur.execute('''\n",
    "        SELECT COUNT(*)\n",
    "        FROM information_schema.tables\n",
    "        WHERE table_name = '{0}'\n",
    "        ''')\n",
    "    if dbcur.fetchone()[0] == 1:\n",
    "        dbcur.close()\n",
    "        return True\n",
    "\n",
    "    dbcur.close()\n",
    "    return False\n",
    "\n",
    "def consultaBanco(codBanco):\n",
    "    # pegando a lista de todos os bancos\n",
    "    # ou pegando um banco específico\n",
    "    if (codBanco==\"l\" or codBanco==\"L\"):\n",
    "        conn = sqlite3.connect(\"bancos.db\")\n",
    "        cursor = conn.cursor()\n",
    "        cursor.execute(\"select * from bancos\")\n",
    "        resultado = cursor.fetchall()\n",
    "        for banco in resultado:\n",
    "            print(\"Id: %d - Cod: %s - banco: %s - sigla: %s\" % (banco))\n",
    "        cursor.close()\n",
    "        conn.close()\n",
    "    else:\n",
    "        with sqlite3.connect(\"bancos.db\") as conn:\n",
    "            with closing(conn.cursor()) as cursor:\n",
    "                cursor.execute('select * FROM bancos WHERE cod = \"%s\"' % codBanco )\n",
    "                while True:\n",
    "                    resultado = cursor.fetchone()\n",
    "                    if resultado != None:\n",
    "                        print(\"Id: %d - Num: %s - banco: %s - sigla: %s\" % (resultado))\n",
    "                        return resultado\n",
    "                        break\n",
    "                    else:\n",
    "                        print(\"Código de Banco não encontrado!\")\n",
    "                        entradaAdicionarBanco=input(\"Gostaria de adicionar banco? (s/n)\")\n",
    "                        if (entradaAdicionarBanco=='s' or entradaAdicionarBanco==\"S\" ):\n",
    "                            print(\"adicionando banco\")\n",
    "                        else:\n",
    "                            print(\"ok\")\n",
    "                        return False\n",
    "                        break\n",
    "\n",
    "def consultaAgencia(sigla_banco):\n",
    "    #TODO Desenvolver inclusão e consulta de agencias adicionais\n",
    "\n",
    "    conn = sqlite3.connect('bancos.db')\n",
    "    cursor=conn.cursor()\n",
    "    cursor.execute(\"SELECT * FROM agencias WHERE banco='%s'\" %(sigla_banco))\n",
    "    while True:\n",
    "        resultado = cursor.fetchone()\n",
    "        if resultado != None:\n",
    "            return resultado\n",
    "            break\n",
    "        else:\n",
    "            print('Não existe AG. para o Banco Selecionado\\n')\n",
    "            entradaAgencia=input(\"Adicionar Agencia?\")\n",
    "\n",
    "def consultaGuia(guia):\n",
    "    conn = sqlite3.connect('bancos.db')\n",
    "    cursor = conn.cursor()\n",
    "    if (guia=='l' or guia=='L'):\n",
    "        cursor.execute(\"SELECT * FROM guias\")\n",
    "        resultado = cursor.fetchall()\n",
    "        for guia in resultado:\n",
    "            print(\"Id: %d - Sigla: %s - Tipo: %s\" %(guia))\n",
    "    else:\n",
    "        indiceGuia=int(guia)\n",
    "        cursor.execute(\"SELECT * from guias WHERE id=%d\" % indiceGuia)\n",
    "        while True:\n",
    "            resultado=cursor.fetchone()\n",
    "            if resultado != None:\n",
    "                print(\"Id: %d - Sigla: %s - Inst.: %s\" %(resultado))\n",
    "                return resultado\n",
    "                break\n",
    "            else:\n",
    "                print('Cod. Guia não encontrado. \\n')\n",
    "                entradaAdGuia=input(\"Adidionar Guia?\")\n",
    "\n",
    "def consultaData(data):\n",
    "    if (len(data)<10 or len(data)>10):\n",
    "        print('a data deve ter o formado dd/mm/aaaa')\n",
    "    else:\n",
    "        #linhaData=data.split(\"/\")\n",
    "        #for linha in linhaData:\n",
    "        #    print(linha)\n",
    "        #print(linhaData[0])\n",
    "\n",
    "        diaPagto = datetime.datetime.strptime(data,\"%d/%m/%Y\")\n",
    "\n",
    "        diaDaSemana=diaPagto.strftime(\"%A\")\n",
    "        dataPagto=diaPagto.strftime(\"%d/%m%/%Y\")\n",
    "\n",
    "        return (diaDaSemana,dataPagto)\n",
    "\n",
    "\n",
    "#Função para calcular o mes anterior - Competencia\n",
    "def monthdelta(date, delta):\n",
    "    m, y = (date.month+delta) % 12, date.year + ((date.month)+delta-1) // 12\n",
    "    if not m: m = 12\n",
    "    d = min(date.day, [31,\n",
    "        29 if y%4==0 and not y%400==0 else 28,31,30,31,30,31,31,30,31,30,31][m-1])\n",
    "    return date.replace(day=d,month=m, year=y)\n",
    "\n",
    "#Sistema Principal de Autenticacao\n",
    "def SistemaAutenticacao():\n",
    "    print(\"\\n *** Sistema de Autenticações Bancárias. Digite q para sair *** \\n\")\n",
    "    _run = True\n",
    "    while _run:\n",
    "        # entrada=int(input(\"Dados: \"))\n",
    "        entrada = input(\"Digite o codigo do banco ou L para lista: \").lower().strip()\n",
    "        if entrada == \"q\":\n",
    "            print('Sistema Finalizado')\n",
    "            break\n",
    "        else:\n",
    "            # entradaBanco=input(\"Digite o codigo do banco ou L para lista: \")\n",
    "            bancoSelecionado = consultaBanco(entrada)\n",
    "            if (bancoSelecionado):\n",
    "                # print(bancoSelecionado[0])\n",
    "                print(\"\\n\")\n",
    "                while _run:\n",
    "                    guia = input(\"%s | Dig. o nº da guia ou L para lista ('v' para voltar): \" % (\n",
    "                    bancoSelecionado[3])).lower().strip()\n",
    "                    if (guia == 'v'):\n",
    "                        break\n",
    "                    elif(guia.lower()=='q'):\n",
    "                        _run=False\n",
    "                    else:\n",
    "                        guiaSelecionada = consultaGuia(guia)\n",
    "                        if (guiaSelecionada):\n",
    "                            while _run:\n",
    "                                EntradaDataVencimento = input(\"%s | %s | Dig. a Data de Venc. ('v' para voltar):\" % (\n",
    "                                bancoSelecionado[3], guiaSelecionada[1]))\n",
    "                                if (EntradaDataVencimento.lower()=='v'):\n",
    "                                    break\n",
    "                                elif (EntradaDataVencimento.lower()=='q'):\n",
    "                                    _run=False\n",
    "                                    break\n",
    "                                else:\n",
    "                                    pass\n",
    "                                EntradaData = input(\"%s | %s | Dig. a Data de Pgto ('v' para voltar):\" % (\n",
    "                                bancoSelecionado[3], guiaSelecionada[1]))\n",
    "                                # TODO Criar classe de cálculo de juro e mora\n",
    "                                if (EntradaData.lower() == 'v'):\n",
    "                                    break\n",
    "                                elif(EntradaData.lower()=='q'):\n",
    "                                    _run=False\n",
    "                                else:\n",
    "                                    diaDaSemana, dataPagto = consultaData(EntradaData)\n",
    "                                    if (diaDaSemana == \"Saturday\"):\n",
    "                                        print(\"Esta data cai num Sábado\")\n",
    "                                    elif (diaDaSemana == \"Sunday\"):\n",
    "                                        print(\"Esta data cai num Domingo\")\n",
    "                                    # TODO Fazer aferição de feriados\n",
    "                                    # TODO Acertar nova data automaticamente\n",
    "                                    else:\n",
    "                                        ValorPrincipal = float(input(\"%s | %s | %s | Valor Principal :\" % (\n",
    "                                        bancoSelecionado[3], guiaSelecionada[1], dataPagto)))\n",
    "                                        ValorOutrasEnt = float(input(\n",
    "                                            \"%s | %s | %s | Outras Ent :\" % (\n",
    "                                                bancoSelecionado[3], guiaSelecionada[1], dataPagto)))\n",
    "\n",
    "                                        # TODO criar avaliação de entrada para campos sem nenhum informação (APENAS ENTER)\n",
    "\n",
    "                                        ValorJurosMulta = float(input(\n",
    "                                            \"%s | %s | %s | ATM/JUR/MULTAS :\" % (\n",
    "                                                bancoSelecionado[3], guiaSelecionada[1], dataPagto)))\n",
    "\n",
    "                                        #d=datetime.datetime.strptime(DataVencimento, \"%d/%m/%Y\")\n",
    "\n",
    "                                        #acertando a hora de pagamento\n",
    "                                        hoje = dt.today()\n",
    "                                        horaBancAbertura=int(HorarioBancario[0][0:2])\n",
    "                                        horaBancFechamento=int(HorarioBancario[1][0:2])\n",
    "\n",
    "                                        if(hoje.hour < horaBancAbertura or hoje.hour > horaBancFechamento ):\n",
    "                                            print(\"\\n*** horario bancario excedido. Gerando horario aleatorio ***\")\n",
    "                                            hora = str(random.choice(range(10, 16)))\n",
    "                                            minuto = \"{:0>2d}\".format(random.choice(range(0, 59)))\n",
    "                                            segundo = \"{:0>2d}\".format(random.choice(range(0, 59)))\n",
    "                                            horaPagto=(\"%s:%s:%s\" %(hora, minuto, segundo))\n",
    "                                            HorarioUltimoPagto=horaPagto\n",
    "                                        else:\n",
    "                                            #horaPagto=time.strftime(\"%I:%M:%S\",time.localtime(hoje.toordinal()))\n",
    "                                            horaPagto=str(\"%d:%d:%d\" %(hoje.hour,hoje.minute,hoje.second))\n",
    "                                            HorarioUltimoPagto = horaPagto\n",
    "                                        #fim acertando hora de pagto\n",
    "\n",
    "                                        DataVencimento = datetime.datetime.strptime(EntradaDataVencimento, \"%d/%m/%Y\")\n",
    "                                        DataPgto = datetime.datetime.strptime(EntradaData, \"%d/%m/%Y\")\n",
    "\n",
    "                                        competencia = monthdelta(\n",
    "                                            datetime.datetime.strptime(EntradaDataVencimento, \"%d/%m/%Y\"), -1)\n",
    "\n",
    "                                        ident = random.randint(1111111111111, 11111111111111)\n",
    "\n",
    "                                        identificador = \"{:0>14d}\".format(ident)\n",
    "\n",
    "\n",
    "                                        ValorArrecadado = ValorPrincipal + ValorOutrasEnt + ValorJurosMulta\n",
    "\n",
    "                                        autenticacao=(str(binascii.b2a_hex(os.urandom(20))))\n",
    "\n",
    "                                        #agenciaPagto=consultaGuia(bancoSelecionado[3])\n",
    "                                        agenciaPagto=consultaAgencia(bancoSelecionado[3])\n",
    "\n",
    "                                        pagamentoN = ComprovantePagto(bancoSelecionado,agenciaPagto, guiaSelecionada, \"2100\",\n",
    "                                                                      DataVencimento, DataPgto,horaPagto, competencia,\n",
    "                                                                      identificador, ValorPrincipal,\n",
    "                                                                      ValorOutrasEnt, ValorJurosMulta, ValorArrecadado,\n",
    "                                                                      autenticacao)\n",
    "\n",
    "\n",
    "                                        while True:\n",
    "                                            EntradaImpressao = input(\"Digite R para Recibo ou A para Autenticação: \")\n",
    "                                            if (EntradaImpressao.lower() == 'r'):\n",
    "                                                ciclo = pagamentoN.Ciclo()\n",
    "                                                pagamentoN.GeraRecibo(ciclo)\n",
    "                                                pagamentoN.MostraRecibo(ciclo)\n",
    "                                            elif (EntradaImpressao.lower() == 'a'):\n",
    "                                                print(\"\\n\\nAUTENTICACAO 999999 999999 999999999 99999999999999999 99999999\")\n",
    "                                            elif (EntradaImpressao.lower()=='v'):\n",
    "                                                break\n",
    "                                            elif (EntradaImpressao.lower()=='q'):\n",
    "                                                pagamentoN.displayCount()\n",
    "                                                _run=False\n",
    "                                                break\n",
    "                                            else:\n",
    "                                                print(\"\\nDigite 'R', 'A', 'V' ou 'Q'\" )\n",
    "\n",
    "                                        print(\"\\n %d Pagamentos Efetuados\" % (pagamentoN.displayCount()))"
   ]
  },
  {
   "cell_type": "code",
   "execution_count": 11,
   "metadata": {
    "scrolled": false
   },
   "outputs": [
    {
     "name": "stdout",
     "output_type": "stream",
     "text": [
      "usando lista de bancos locais \n",
      " \n",
      "\n"
     ]
    }
   ],
   "source": [
    "    if(verificaBD()):\n",
    "        print(\"usando lista de bancos locais \\n \\n\")\n",
    "    else:\n",
    "        print(\"novo banco de dados padrão criado \\n \\n \")"
   ]
  },
  {
   "cell_type": "code",
   "execution_count": 296,
   "metadata": {},
   "outputs": [
    {
     "name": "stdout",
     "output_type": "stream",
     "text": [
      "Id: 1 - Num: 001 - banco: Banco do Brasil S.A. - sigla: BB\n",
      "Id: 1 - Sigla: GPS - Inst.: Guia de Previdência Social\n"
     ]
    }
   ],
   "source": [
    "#gera um guia bogus de pagamento - para agilizar testes\n",
    "#Definindo Banco do Brasil/Guia GPS/\n",
    "bancoSelecionado=consultaBanco(\"001\")\n",
    "guiaSelecionada=consultaGuia(\"1\")\n",
    "EntradaDataVencimento=(\"20/01/2018\")\n",
    "EntradaData=(\"19/01/2018\")\n",
    "ValorPrincipal=(5500.67)\n",
    "ValorOutrasEnt=(670.87)\n",
    "ValorJurosMulta=(0)\n",
    "hoje = dt.today()\n",
    "horaBancAbertura=int(HorarioBancario[0][0:2])\n",
    "horaBancFechamento=int(HorarioBancario[1][0:2])\n",
    "\n",
    "if(hoje.hour < horaBancAbertura or hoje.hour > horaBancFechamento ):\n",
    "    print(\"\\n*** horario bancario excedido. Gerando horario aleatorio ***\")\n",
    "    hora = str(random.choice(range(10, 16)))\n",
    "    minuto = \"{:0>2d}\".format(random.choice(range(0, 59)))\n",
    "    segundo = \"{:0>2d}\".format(random.choice(range(0, 59)))\n",
    "    horaPagto=(\"%s:%s:%s\" %(hora, minuto, segundo))\n",
    "    HorarioUltimoPagto=horaPagto\n",
    "else:\n",
    "    #horaPagto=time.strftime(\"%I:%M:%S\",time.localtime(hoje.toordinal()))\n",
    "    horaPagto=str(\"%d:%d:%d\" %(hoje.hour,hoje.minute,hoje.second))\n",
    "    HorarioUltimoPagto = horaPagto\n",
    "#fim acertando hora de pagto\n",
    "\n",
    "DataVencimento = datetime.datetime.strptime(EntradaDataVencimento, \"%d/%m/%Y\")\n",
    "DataPgto = datetime.datetime.strptime(EntradaData, \"%d/%m/%Y\")\n",
    "\n",
    "competencia = monthdelta(datetime.datetime.strptime(EntradaDataVencimento, \"%d/%m/%Y\"), -1)\n",
    "\n",
    "ident = random.randint(1111111111111, 11111111111111)\n",
    "\n",
    "identificador = \"{:0>14d}\".format(ident)\n",
    "\n",
    "ValorArrecadado = ValorPrincipal + ValorOutrasEnt + ValorJurosMulta\n",
    "\n",
    "autenticacao=(str(binascii.b2a_hex(os.urandom(20))))\n",
    "\n",
    "agenciaPagto=consultaAgencia(bancoSelecionado[3])\n",
    "\n",
    "pagamentoN = ComprovantePagto(bancoSelecionado,agenciaPagto, guiaSelecionada, \"2100\",\n",
    "                              DataVencimento, DataPgto,horaPagto, competencia,\n",
    "                              identificador, ValorPrincipal,\n",
    "                              ValorOutrasEnt, ValorJurosMulta, ValorArrecadado,\n",
    "                              autenticacao)\n",
    "\n"
   ]
  },
  {
   "cell_type": "code",
   "execution_count": 297,
   "metadata": {
    "scrolled": true
   },
   "outputs": [
    {
     "name": "stdout",
     "output_type": "stream",
     "text": [
      "Total de Pagamentos 1\n",
      "1\n"
     ]
    }
   ],
   "source": [
    "print(pagamentoN.displayCount())"
   ]
  },
  {
   "cell_type": "code",
   "execution_count": 298,
   "metadata": {
    "scrolled": true
   },
   "outputs": [
    {
     "name": "stdout",
     "output_type": "stream",
     "text": [
      "20.12.20171167002055064591352\n"
     ]
    }
   ],
   "source": [
    "print(pagamentoN.Ciclo())"
   ]
  },
  {
   "cell_type": "code",
   "execution_count": 325,
   "metadata": {
    "scrolled": false
   },
   "outputs": [
    {
     "name": "stdout",
     "output_type": "stream",
     "text": [
      "\n",
      "BB 0080 001 190118 0129 \t6171,54R 20/20\n"
     ]
    }
   ],
   "source": [
    "pagamentoN.MostraAutenticacao()"
   ]
  },
  {
   "cell_type": "code",
   "execution_count": 308,
   "metadata": {},
   "outputs": [
    {
     "name": "stdout",
     "output_type": "stream",
     "text": [
      "0112\n"
     ]
    }
   ],
   "source": [
    "print(pagamentoN.GeraNumAutenticacao())"
   ]
  },
  {
   "cell_type": "code",
   "execution_count": 294,
   "metadata": {},
   "outputs": [
    {
     "data": {
      "text/plain": [
       "'0090'"
      ]
     },
     "execution_count": 294,
     "metadata": {},
     "output_type": "execute_result"
    }
   ],
   "source": [
    "\"{:0>4d}\".format(90)"
   ]
  },
  {
   "cell_type": "code",
   "execution_count": null,
   "metadata": {
    "collapsed": true
   },
   "outputs": [],
   "source": []
  },
  {
   "cell_type": "code",
   "execution_count": 36,
   "metadata": {},
   "outputs": [
    {
     "name": "stdout",
     "output_type": "stream",
     "text": [
      "6.171,54\n"
     ]
    }
   ],
   "source": [
    "print(locale.format(\"%1.2f\", pagamentoN.valor_total, 1))"
   ]
  },
  {
   "cell_type": "code",
   "execution_count": 37,
   "metadata": {},
   "outputs": [
    {
     "name": "stdout",
     "output_type": "stream",
     "text": [
      "6171.54\n"
     ]
    }
   ],
   "source": [
    "print(pagamentoN.valor_total)"
   ]
  },
  {
   "cell_type": "code",
   "execution_count": 45,
   "metadata": {
    "collapsed": true
   },
   "outputs": [],
   "source": [
    "valor=9000.88\n",
    "\n"
   ]
  },
  {
   "cell_type": "code",
   "execution_count": 46,
   "metadata": {},
   "outputs": [
    {
     "name": "stdout",
     "output_type": "stream",
     "text": [
      "9000.88\n"
     ]
    }
   ],
   "source": [
    "print(valor)"
   ]
  },
  {
   "cell_type": "code",
   "execution_count": 47,
   "metadata": {
    "collapsed": true
   },
   "outputs": [],
   "source": [
    "valorS=str(valor)"
   ]
  },
  {
   "cell_type": "code",
   "execution_count": 48,
   "metadata": {},
   "outputs": [
    {
     "name": "stdout",
     "output_type": "stream",
     "text": [
      "9000.88\n"
     ]
    }
   ],
   "source": [
    "print(valorS)"
   ]
  },
  {
   "cell_type": "code",
   "execution_count": 49,
   "metadata": {},
   "outputs": [
    {
     "name": "stdout",
     "output_type": "stream",
     "text": [
      "9000,88\n"
     ]
    }
   ],
   "source": [
    "print(valorS.replace(\".\",\",\"))"
   ]
  },
  {
   "cell_type": "code",
   "execution_count": 52,
   "metadata": {},
   "outputs": [
    {
     "name": "stdout",
     "output_type": "stream",
     "text": [
      "9000,88\n"
     ]
    }
   ],
   "source": [
    "print(str(valor).replace(\".\",\",\"))"
   ]
  },
  {
   "cell_type": "code",
   "execution_count": 69,
   "metadata": {},
   "outputs": [
    {
     "data": {
      "text/plain": [
       "str"
      ]
     },
     "execution_count": 69,
     "metadata": {},
     "output_type": "execute_result"
    }
   ],
   "source": [
    "type(locale.format(\"%1.2f\", pagamentoN.valor_total, 1))"
   ]
  },
  {
   "cell_type": "code",
   "execution_count": 80,
   "metadata": {},
   "outputs": [
    {
     "name": "stdout",
     "output_type": "stream",
     "text": [
      "20/20\n"
     ]
    }
   ],
   "source": [
    "print(pagamentoN.data_venc.strftime(\"%d/%d\"))"
   ]
  },
  {
   "cell_type": "code",
   "execution_count": 152,
   "metadata": {},
   "outputs": [],
   "source": [
    "numInicial=(\"%s%s\" %(\"0\",str(pagamentoN.banco[0])))\n",
    "numFinal=\"{:0>2d}\".format(random.randint(1,10))\n",
    "NumAleatorio=(\"%s%s\" %(numInicial,numFinal))\n"
   ]
  },
  {
   "cell_type": "code",
   "execution_count": 207,
   "metadata": {},
   "outputs": [
    {
     "name": "stdout",
     "output_type": "stream",
     "text": [
      "0103\n"
     ]
    }
   ],
   "source": [
    "print(NumAleatorio)"
   ]
  },
  {
   "cell_type": "code",
   "execution_count": 211,
   "metadata": {},
   "outputs": [
    {
     "name": "stdout",
     "output_type": "stream",
     "text": [
      "0105\n"
     ]
    }
   ],
   "source": [
    "print(pagamentoN.NumUltimaAutenticacao)"
   ]
  },
  {
   "cell_type": "code",
   "execution_count": 235,
   "metadata": {},
   "outputs": [
    {
     "name": "stdout",
     "output_type": "stream",
     "text": [
      "\n",
      "BB 0080 001 190118 6171,54\t 20R\n"
     ]
    }
   ],
   "source": [
    "pagamentoN.MostraAutenticacao()"
   ]
  }
 ],
 "metadata": {
  "kernelspec": {
   "display_name": "Python 3",
   "language": "python",
   "name": "python3"
  },
  "language_info": {
   "codemirror_mode": {
    "name": "ipython",
    "version": 3
   },
   "file_extension": ".py",
   "mimetype": "text/x-python",
   "name": "python",
   "nbconvert_exporter": "python",
   "pygments_lexer": "ipython3",
   "version": "3.6.2"
  }
 },
 "nbformat": 4,
 "nbformat_minor": 2
}
